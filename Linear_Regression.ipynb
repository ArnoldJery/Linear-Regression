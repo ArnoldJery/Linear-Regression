{
 "cells": [
  {
   "cell_type": "code",
   "execution_count": 1,
   "id": "59eabc79",
   "metadata": {
    "_cell_guid": "b1076dfc-b9ad-4769-8c92-a6c4dae69d19",
    "_uuid": "8f2839f25d086af736a60e9eeb907d3b93b6e0e5",
    "execution": {
     "iopub.execute_input": "2022-04-14T18:49:00.952505Z",
     "iopub.status.busy": "2022-04-14T18:49:00.951898Z",
     "iopub.status.idle": "2022-04-14T18:49:00.975309Z",
     "shell.execute_reply": "2022-04-14T18:49:00.974258Z"
    },
    "papermill": {
     "duration": 0.048267,
     "end_time": "2022-04-14T18:49:00.977811",
     "exception": false,
     "start_time": "2022-04-14T18:49:00.929544",
     "status": "completed"
    },
    "tags": []
   },
   "outputs": [
    {
     "name": "stdout",
     "output_type": "stream",
     "text": [
      "/kaggle/input/jkse-dataset/JKSE.csv\n",
      "/kaggle/input/bbri-dataset/BBRI.JK.csv\n"
     ]
    }
   ],
   "source": [
    "# This Python 3 environment comes with many helpful analytics libraries installed\n",
    "# It is defined by the kaggle/python Docker image: https://github.com/kaggle/docker-python\n",
    "# For example, here's several helpful packages to load\n",
    "\n",
    "import numpy as np # linear algebra\n",
    "import pandas as pd # data processing, CSV file I/O (e.g. pd.read_csv)\n",
    "\n",
    "# Input data files are available in the read-only \"../input/\" directory\n",
    "# For example, running this (by clicking run or pressing Shift+Enter) will list all files under the input directory\n",
    "\n",
    "import os\n",
    "for dirname, _, filenames in os.walk('/kaggle/input'):\n",
    "    for filename in filenames:\n",
    "        print(os.path.join(dirname, filename))\n",
    "\n",
    "# You can write up to 20GB to the current directory (/kaggle/working/) that gets preserved as output when you create a version using \"Save & Run All\" \n",
    "# You can also write temporary files to /kaggle/temp/, but they won't be saved outside of the current session"
   ]
  },
  {
   "cell_type": "code",
   "execution_count": 2,
   "id": "4e521072",
   "metadata": {
    "execution": {
     "iopub.execute_input": "2022-04-14T18:49:01.019868Z",
     "iopub.status.busy": "2022-04-14T18:49:01.018964Z",
     "iopub.status.idle": "2022-04-14T18:49:02.172213Z",
     "shell.execute_reply": "2022-04-14T18:49:02.171414Z"
    },
    "papermill": {
     "duration": 1.176641,
     "end_time": "2022-04-14T18:49:02.174596",
     "exception": false,
     "start_time": "2022-04-14T18:49:00.997955",
     "status": "completed"
    },
    "tags": []
   },
   "outputs": [],
   "source": [
    "import numpy as np\n",
    "import pandas as pd \n",
    "import matplotlib.pyplot as plt\n",
    "import seaborn as sns"
   ]
  },
  {
   "cell_type": "code",
   "execution_count": 3,
   "id": "89363d39",
   "metadata": {
    "execution": {
     "iopub.execute_input": "2022-04-14T18:49:02.216574Z",
     "iopub.status.busy": "2022-04-14T18:49:02.216301Z",
     "iopub.status.idle": "2022-04-14T18:49:02.237076Z",
     "shell.execute_reply": "2022-04-14T18:49:02.236166Z"
    },
    "papermill": {
     "duration": 0.044148,
     "end_time": "2022-04-14T18:49:02.239421",
     "exception": false,
     "start_time": "2022-04-14T18:49:02.195273",
     "status": "completed"
    },
    "tags": []
   },
   "outputs": [],
   "source": [
    "jkse = pd.read_csv('../input/jkse-dataset/JKSE.csv')"
   ]
  },
  {
   "cell_type": "code",
   "execution_count": 4,
   "id": "9e84109a",
   "metadata": {
    "execution": {
     "iopub.execute_input": "2022-04-14T18:49:02.280819Z",
     "iopub.status.busy": "2022-04-14T18:49:02.280281Z",
     "iopub.status.idle": "2022-04-14T18:49:02.308428Z",
     "shell.execute_reply": "2022-04-14T18:49:02.307100Z"
    },
    "papermill": {
     "duration": 0.052789,
     "end_time": "2022-04-14T18:49:02.311960",
     "exception": false,
     "start_time": "2022-04-14T18:49:02.259171",
     "status": "completed"
    },
    "tags": []
   },
   "outputs": [
    {
     "name": "stdout",
     "output_type": "stream",
     "text": [
      "<class 'pandas.core.frame.DataFrame'>\n",
      "RangeIndex: 13 entries, 0 to 12\n",
      "Data columns (total 7 columns):\n",
      " #   Column     Non-Null Count  Dtype  \n",
      "---  ------     --------------  -----  \n",
      " 0   Date       13 non-null     object \n",
      " 1   Open       13 non-null     float64\n",
      " 2   High       13 non-null     float64\n",
      " 3   Low        13 non-null     float64\n",
      " 4   Close      13 non-null     float64\n",
      " 5   Adj Close  13 non-null     float64\n",
      " 6   Volume     13 non-null     int64  \n",
      "dtypes: float64(5), int64(1), object(1)\n",
      "memory usage: 856.0+ bytes\n"
     ]
    }
   ],
   "source": [
    "jkse.info()"
   ]
  },
  {
   "cell_type": "code",
   "execution_count": 5,
   "id": "bf7147c6",
   "metadata": {
    "execution": {
     "iopub.execute_input": "2022-04-14T18:49:02.354289Z",
     "iopub.status.busy": "2022-04-14T18:49:02.354018Z",
     "iopub.status.idle": "2022-04-14T18:49:02.374879Z",
     "shell.execute_reply": "2022-04-14T18:49:02.373934Z"
    },
    "papermill": {
     "duration": 0.044601,
     "end_time": "2022-04-14T18:49:02.377256",
     "exception": false,
     "start_time": "2022-04-14T18:49:02.332655",
     "status": "completed"
    },
    "tags": []
   },
   "outputs": [
    {
     "data": {
      "text/html": [
       "<div>\n",
       "<style scoped>\n",
       "    .dataframe tbody tr th:only-of-type {\n",
       "        vertical-align: middle;\n",
       "    }\n",
       "\n",
       "    .dataframe tbody tr th {\n",
       "        vertical-align: top;\n",
       "    }\n",
       "\n",
       "    .dataframe thead th {\n",
       "        text-align: right;\n",
       "    }\n",
       "</style>\n",
       "<table border=\"1\" class=\"dataframe\">\n",
       "  <thead>\n",
       "    <tr style=\"text-align: right;\">\n",
       "      <th></th>\n",
       "      <th>Date</th>\n",
       "      <th>Open</th>\n",
       "      <th>High</th>\n",
       "      <th>Low</th>\n",
       "      <th>Close</th>\n",
       "      <th>Adj Close</th>\n",
       "      <th>Volume</th>\n",
       "    </tr>\n",
       "  </thead>\n",
       "  <tbody>\n",
       "    <tr>\n",
       "      <th>0</th>\n",
       "      <td>2021-04-01</td>\n",
       "      <td>5988.022949</td>\n",
       "      <td>6115.620117</td>\n",
       "      <td>5883.523926</td>\n",
       "      <td>5995.616211</td>\n",
       "      <td>5995.616211</td>\n",
       "      <td>2813253600</td>\n",
       "    </tr>\n",
       "    <tr>\n",
       "      <th>1</th>\n",
       "      <td>2021-05-01</td>\n",
       "      <td>5999.661133</td>\n",
       "      <td>6005.087891</td>\n",
       "      <td>5742.038086</td>\n",
       "      <td>5947.462891</td>\n",
       "      <td>5947.462891</td>\n",
       "      <td>2453433400</td>\n",
       "    </tr>\n",
       "    <tr>\n",
       "      <th>2</th>\n",
       "      <td>2021-06-01</td>\n",
       "      <td>6002.480957</td>\n",
       "      <td>6134.881836</td>\n",
       "      <td>5884.917969</td>\n",
       "      <td>5985.488770</td>\n",
       "      <td>5985.488770</td>\n",
       "      <td>3980614000</td>\n",
       "    </tr>\n",
       "    <tr>\n",
       "      <th>3</th>\n",
       "      <td>2021-07-01</td>\n",
       "      <td>6001.121094</td>\n",
       "      <td>6166.305176</td>\n",
       "      <td>5947.618164</td>\n",
       "      <td>6070.039063</td>\n",
       "      <td>6070.039063</td>\n",
       "      <td>3225744000</td>\n",
       "    </tr>\n",
       "    <tr>\n",
       "      <th>4</th>\n",
       "      <td>2021-08-01</td>\n",
       "      <td>6098.007813</td>\n",
       "      <td>6263.539063</td>\n",
       "      <td>5938.407227</td>\n",
       "      <td>6150.298828</td>\n",
       "      <td>6150.298828</td>\n",
       "      <td>4218994600</td>\n",
       "    </tr>\n",
       "  </tbody>\n",
       "</table>\n",
       "</div>"
      ],
      "text/plain": [
       "         Date         Open         High          Low        Close  \\\n",
       "0  2021-04-01  5988.022949  6115.620117  5883.523926  5995.616211   \n",
       "1  2021-05-01  5999.661133  6005.087891  5742.038086  5947.462891   \n",
       "2  2021-06-01  6002.480957  6134.881836  5884.917969  5985.488770   \n",
       "3  2021-07-01  6001.121094  6166.305176  5947.618164  6070.039063   \n",
       "4  2021-08-01  6098.007813  6263.539063  5938.407227  6150.298828   \n",
       "\n",
       "     Adj Close      Volume  \n",
       "0  5995.616211  2813253600  \n",
       "1  5947.462891  2453433400  \n",
       "2  5985.488770  3980614000  \n",
       "3  6070.039063  3225744000  \n",
       "4  6150.298828  4218994600  "
      ]
     },
     "execution_count": 5,
     "metadata": {},
     "output_type": "execute_result"
    }
   ],
   "source": [
    "jkse.head()"
   ]
  },
  {
   "cell_type": "code",
   "execution_count": 6,
   "id": "4c6d6f18",
   "metadata": {
    "execution": {
     "iopub.execute_input": "2022-04-14T18:49:02.419369Z",
     "iopub.status.busy": "2022-04-14T18:49:02.419092Z",
     "iopub.status.idle": "2022-04-14T18:49:02.435100Z",
     "shell.execute_reply": "2022-04-14T18:49:02.434011Z"
    },
    "papermill": {
     "duration": 0.039675,
     "end_time": "2022-04-14T18:49:02.437209",
     "exception": false,
     "start_time": "2022-04-14T18:49:02.397534",
     "status": "completed"
    },
    "tags": []
   },
   "outputs": [
    {
     "data": {
      "text/html": [
       "<div>\n",
       "<style scoped>\n",
       "    .dataframe tbody tr th:only-of-type {\n",
       "        vertical-align: middle;\n",
       "    }\n",
       "\n",
       "    .dataframe tbody tr th {\n",
       "        vertical-align: top;\n",
       "    }\n",
       "\n",
       "    .dataframe thead th {\n",
       "        text-align: right;\n",
       "    }\n",
       "</style>\n",
       "<table border=\"1\" class=\"dataframe\">\n",
       "  <thead>\n",
       "    <tr style=\"text-align: right;\">\n",
       "      <th></th>\n",
       "      <th>jkse</th>\n",
       "    </tr>\n",
       "  </thead>\n",
       "  <tbody>\n",
       "    <tr>\n",
       "      <th>0</th>\n",
       "      <td>5995.616211</td>\n",
       "    </tr>\n",
       "    <tr>\n",
       "      <th>1</th>\n",
       "      <td>5947.462891</td>\n",
       "    </tr>\n",
       "    <tr>\n",
       "      <th>2</th>\n",
       "      <td>5985.488770</td>\n",
       "    </tr>\n",
       "    <tr>\n",
       "      <th>3</th>\n",
       "      <td>6070.039063</td>\n",
       "    </tr>\n",
       "    <tr>\n",
       "      <th>4</th>\n",
       "      <td>6150.298828</td>\n",
       "    </tr>\n",
       "    <tr>\n",
       "      <th>5</th>\n",
       "      <td>6286.942871</td>\n",
       "    </tr>\n",
       "    <tr>\n",
       "      <th>6</th>\n",
       "      <td>6591.346191</td>\n",
       "    </tr>\n",
       "    <tr>\n",
       "      <th>7</th>\n",
       "      <td>6533.932129</td>\n",
       "    </tr>\n",
       "    <tr>\n",
       "      <th>8</th>\n",
       "      <td>6581.481934</td>\n",
       "    </tr>\n",
       "    <tr>\n",
       "      <th>9</th>\n",
       "      <td>6631.150879</td>\n",
       "    </tr>\n",
       "    <tr>\n",
       "      <th>10</th>\n",
       "      <td>6888.170898</td>\n",
       "    </tr>\n",
       "    <tr>\n",
       "      <th>11</th>\n",
       "      <td>6954.964844</td>\n",
       "    </tr>\n",
       "    <tr>\n",
       "      <th>12</th>\n",
       "      <td>6954.964844</td>\n",
       "    </tr>\n",
       "  </tbody>\n",
       "</table>\n",
       "</div>"
      ],
      "text/plain": [
       "           jkse\n",
       "0   5995.616211\n",
       "1   5947.462891\n",
       "2   5985.488770\n",
       "3   6070.039063\n",
       "4   6150.298828\n",
       "5   6286.942871\n",
       "6   6591.346191\n",
       "7   6533.932129\n",
       "8   6581.481934\n",
       "9   6631.150879\n",
       "10  6888.170898\n",
       "11  6954.964844\n",
       "12  6954.964844"
      ]
     },
     "metadata": {},
     "output_type": "display_data"
    }
   ],
   "source": [
    "jkse_closing = pd.read_csv('../input/jkse-dataset/JKSE.csv', usecols =['Close'])\n",
    "jkse = jkse_closing.rename(columns={'Close' : 'jkse'})\n",
    "display(jkse)"
   ]
  },
  {
   "cell_type": "code",
   "execution_count": 7,
   "id": "bd62b21b",
   "metadata": {
    "execution": {
     "iopub.execute_input": "2022-04-14T18:49:02.481760Z",
     "iopub.status.busy": "2022-04-14T18:49:02.481463Z",
     "iopub.status.idle": "2022-04-14T18:49:02.506132Z",
     "shell.execute_reply": "2022-04-14T18:49:02.504673Z"
    },
    "papermill": {
     "duration": 0.049164,
     "end_time": "2022-04-14T18:49:02.508210",
     "exception": false,
     "start_time": "2022-04-14T18:49:02.459046",
     "status": "completed"
    },
    "tags": []
   },
   "outputs": [
    {
     "name": "stdout",
     "output_type": "stream",
     "text": [
      "<class 'pandas.core.frame.DataFrame'>\n",
      "RangeIndex: 248 entries, 0 to 247\n",
      "Data columns (total 7 columns):\n",
      " #   Column     Non-Null Count  Dtype  \n",
      "---  ------     --------------  -----  \n",
      " 0   Date       248 non-null    object \n",
      " 1   Open       248 non-null    float64\n",
      " 2   High       248 non-null    float64\n",
      " 3   Low        248 non-null    float64\n",
      " 4   Close      248 non-null    float64\n",
      " 5   Adj Close  248 non-null    float64\n",
      " 6   Volume     248 non-null    int64  \n",
      "dtypes: float64(5), int64(1), object(1)\n",
      "memory usage: 13.7+ KB\n"
     ]
    }
   ],
   "source": [
    "bbri =  pd.read_csv('../input/bbri-dataset/BBRI.JK.csv') \n",
    "bbri.info()"
   ]
  },
  {
   "cell_type": "code",
   "execution_count": 8,
   "id": "54539a76",
   "metadata": {
    "execution": {
     "iopub.execute_input": "2022-04-14T18:49:02.553563Z",
     "iopub.status.busy": "2022-04-14T18:49:02.552626Z",
     "iopub.status.idle": "2022-04-14T18:49:02.566878Z",
     "shell.execute_reply": "2022-04-14T18:49:02.566252Z"
    },
    "papermill": {
     "duration": 0.03854,
     "end_time": "2022-04-14T18:49:02.568721",
     "exception": false,
     "start_time": "2022-04-14T18:49:02.530181",
     "status": "completed"
    },
    "tags": []
   },
   "outputs": [
    {
     "data": {
      "text/html": [
       "<div>\n",
       "<style scoped>\n",
       "    .dataframe tbody tr th:only-of-type {\n",
       "        vertical-align: middle;\n",
       "    }\n",
       "\n",
       "    .dataframe tbody tr th {\n",
       "        vertical-align: top;\n",
       "    }\n",
       "\n",
       "    .dataframe thead th {\n",
       "        text-align: right;\n",
       "    }\n",
       "</style>\n",
       "<table border=\"1\" class=\"dataframe\">\n",
       "  <thead>\n",
       "    <tr style=\"text-align: right;\">\n",
       "      <th></th>\n",
       "      <th>Date</th>\n",
       "      <th>Open</th>\n",
       "      <th>High</th>\n",
       "      <th>Low</th>\n",
       "      <th>Close</th>\n",
       "      <th>Adj Close</th>\n",
       "      <th>Volume</th>\n",
       "    </tr>\n",
       "  </thead>\n",
       "  <tbody>\n",
       "    <tr>\n",
       "      <th>0</th>\n",
       "      <td>2021-03-19</td>\n",
       "      <td>4750.0</td>\n",
       "      <td>4750.0</td>\n",
       "      <td>4670.0</td>\n",
       "      <td>4670.0</td>\n",
       "      <td>4395.772949</td>\n",
       "      <td>151268300</td>\n",
       "    </tr>\n",
       "    <tr>\n",
       "      <th>1</th>\n",
       "      <td>2021-03-22</td>\n",
       "      <td>4700.0</td>\n",
       "      <td>4700.0</td>\n",
       "      <td>4620.0</td>\n",
       "      <td>4630.0</td>\n",
       "      <td>4358.121582</td>\n",
       "      <td>60999200</td>\n",
       "    </tr>\n",
       "    <tr>\n",
       "      <th>2</th>\n",
       "      <td>2021-03-23</td>\n",
       "      <td>4720.0</td>\n",
       "      <td>4720.0</td>\n",
       "      <td>4650.0</td>\n",
       "      <td>4670.0</td>\n",
       "      <td>4395.772949</td>\n",
       "      <td>104576700</td>\n",
       "    </tr>\n",
       "    <tr>\n",
       "      <th>3</th>\n",
       "      <td>2021-03-24</td>\n",
       "      <td>4730.0</td>\n",
       "      <td>4730.0</td>\n",
       "      <td>4650.0</td>\n",
       "      <td>4670.0</td>\n",
       "      <td>4395.772949</td>\n",
       "      <td>109556600</td>\n",
       "    </tr>\n",
       "    <tr>\n",
       "      <th>4</th>\n",
       "      <td>2021-03-25</td>\n",
       "      <td>4700.0</td>\n",
       "      <td>4700.0</td>\n",
       "      <td>4580.0</td>\n",
       "      <td>4620.0</td>\n",
       "      <td>4348.708984</td>\n",
       "      <td>86494000</td>\n",
       "    </tr>\n",
       "  </tbody>\n",
       "</table>\n",
       "</div>"
      ],
      "text/plain": [
       "         Date    Open    High     Low   Close    Adj Close     Volume\n",
       "0  2021-03-19  4750.0  4750.0  4670.0  4670.0  4395.772949  151268300\n",
       "1  2021-03-22  4700.0  4700.0  4620.0  4630.0  4358.121582   60999200\n",
       "2  2021-03-23  4720.0  4720.0  4650.0  4670.0  4395.772949  104576700\n",
       "3  2021-03-24  4730.0  4730.0  4650.0  4670.0  4395.772949  109556600\n",
       "4  2021-03-25  4700.0  4700.0  4580.0  4620.0  4348.708984   86494000"
      ]
     },
     "execution_count": 8,
     "metadata": {},
     "output_type": "execute_result"
    }
   ],
   "source": [
    "bbri.head()"
   ]
  },
  {
   "cell_type": "code",
   "execution_count": 9,
   "id": "06301e12",
   "metadata": {
    "execution": {
     "iopub.execute_input": "2022-04-14T18:49:02.614536Z",
     "iopub.status.busy": "2022-04-14T18:49:02.613879Z",
     "iopub.status.idle": "2022-04-14T18:49:02.629444Z",
     "shell.execute_reply": "2022-04-14T18:49:02.628329Z"
    },
    "papermill": {
     "duration": 0.04098,
     "end_time": "2022-04-14T18:49:02.631574",
     "exception": false,
     "start_time": "2022-04-14T18:49:02.590594",
     "status": "completed"
    },
    "tags": []
   },
   "outputs": [
    {
     "data": {
      "text/html": [
       "<div>\n",
       "<style scoped>\n",
       "    .dataframe tbody tr th:only-of-type {\n",
       "        vertical-align: middle;\n",
       "    }\n",
       "\n",
       "    .dataframe tbody tr th {\n",
       "        vertical-align: top;\n",
       "    }\n",
       "\n",
       "    .dataframe thead th {\n",
       "        text-align: right;\n",
       "    }\n",
       "</style>\n",
       "<table border=\"1\" class=\"dataframe\">\n",
       "  <thead>\n",
       "    <tr style=\"text-align: right;\">\n",
       "      <th></th>\n",
       "      <th>BBRI</th>\n",
       "    </tr>\n",
       "  </thead>\n",
       "  <tbody>\n",
       "    <tr>\n",
       "      <th>0</th>\n",
       "      <td>4670.0</td>\n",
       "    </tr>\n",
       "    <tr>\n",
       "      <th>1</th>\n",
       "      <td>4630.0</td>\n",
       "    </tr>\n",
       "    <tr>\n",
       "      <th>2</th>\n",
       "      <td>4670.0</td>\n",
       "    </tr>\n",
       "    <tr>\n",
       "      <th>3</th>\n",
       "      <td>4670.0</td>\n",
       "    </tr>\n",
       "    <tr>\n",
       "      <th>4</th>\n",
       "      <td>4620.0</td>\n",
       "    </tr>\n",
       "    <tr>\n",
       "      <th>...</th>\n",
       "      <td>...</td>\n",
       "    </tr>\n",
       "    <tr>\n",
       "      <th>243</th>\n",
       "      <td>4610.0</td>\n",
       "    </tr>\n",
       "    <tr>\n",
       "      <th>244</th>\n",
       "      <td>4650.0</td>\n",
       "    </tr>\n",
       "    <tr>\n",
       "      <th>245</th>\n",
       "      <td>4650.0</td>\n",
       "    </tr>\n",
       "    <tr>\n",
       "      <th>246</th>\n",
       "      <td>4580.0</td>\n",
       "    </tr>\n",
       "    <tr>\n",
       "      <th>247</th>\n",
       "      <td>4580.0</td>\n",
       "    </tr>\n",
       "  </tbody>\n",
       "</table>\n",
       "<p>248 rows × 1 columns</p>\n",
       "</div>"
      ],
      "text/plain": [
       "       BBRI\n",
       "0    4670.0\n",
       "1    4630.0\n",
       "2    4670.0\n",
       "3    4670.0\n",
       "4    4620.0\n",
       "..      ...\n",
       "243  4610.0\n",
       "244  4650.0\n",
       "245  4650.0\n",
       "246  4580.0\n",
       "247  4580.0\n",
       "\n",
       "[248 rows x 1 columns]"
      ]
     },
     "metadata": {},
     "output_type": "display_data"
    }
   ],
   "source": [
    "bbri_closing = pd.read_csv('../input/bbri-dataset/BBRI.JK.csv', usecols =['Close'])\n",
    "bbri = bbri_closing.rename(columns={'Close' : 'BBRI'})\n",
    "display(bbri)"
   ]
  },
  {
   "cell_type": "code",
   "execution_count": 10,
   "id": "0f1cf96d",
   "metadata": {
    "execution": {
     "iopub.execute_input": "2022-04-14T18:49:02.678496Z",
     "iopub.status.busy": "2022-04-14T18:49:02.678199Z",
     "iopub.status.idle": "2022-04-14T18:49:02.698042Z",
     "shell.execute_reply": "2022-04-14T18:49:02.697219Z"
    },
    "papermill": {
     "duration": 0.045746,
     "end_time": "2022-04-14T18:49:02.700068",
     "exception": false,
     "start_time": "2022-04-14T18:49:02.654322",
     "status": "completed"
    },
    "tags": []
   },
   "outputs": [
    {
     "data": {
      "text/html": [
       "<div>\n",
       "<style scoped>\n",
       "    .dataframe tbody tr th:only-of-type {\n",
       "        vertical-align: middle;\n",
       "    }\n",
       "\n",
       "    .dataframe tbody tr th {\n",
       "        vertical-align: top;\n",
       "    }\n",
       "\n",
       "    .dataframe thead th {\n",
       "        text-align: right;\n",
       "    }\n",
       "</style>\n",
       "<table border=\"1\" class=\"dataframe\">\n",
       "  <thead>\n",
       "    <tr style=\"text-align: right;\">\n",
       "      <th></th>\n",
       "      <th>jkse</th>\n",
       "      <th>BBRI</th>\n",
       "    </tr>\n",
       "  </thead>\n",
       "  <tbody>\n",
       "    <tr>\n",
       "      <th>0</th>\n",
       "      <td>5995.616211</td>\n",
       "      <td>4670.0</td>\n",
       "    </tr>\n",
       "    <tr>\n",
       "      <th>1</th>\n",
       "      <td>5947.462891</td>\n",
       "      <td>4630.0</td>\n",
       "    </tr>\n",
       "    <tr>\n",
       "      <th>2</th>\n",
       "      <td>5985.488770</td>\n",
       "      <td>4670.0</td>\n",
       "    </tr>\n",
       "    <tr>\n",
       "      <th>3</th>\n",
       "      <td>6070.039063</td>\n",
       "      <td>4670.0</td>\n",
       "    </tr>\n",
       "    <tr>\n",
       "      <th>4</th>\n",
       "      <td>6150.298828</td>\n",
       "      <td>4620.0</td>\n",
       "    </tr>\n",
       "    <tr>\n",
       "      <th>5</th>\n",
       "      <td>6286.942871</td>\n",
       "      <td>4720.0</td>\n",
       "    </tr>\n",
       "    <tr>\n",
       "      <th>6</th>\n",
       "      <td>6591.346191</td>\n",
       "      <td>4720.0</td>\n",
       "    </tr>\n",
       "    <tr>\n",
       "      <th>7</th>\n",
       "      <td>6533.932129</td>\n",
       "      <td>4500.0</td>\n",
       "    </tr>\n",
       "    <tr>\n",
       "      <th>8</th>\n",
       "      <td>6581.481934</td>\n",
       "      <td>4400.0</td>\n",
       "    </tr>\n",
       "    <tr>\n",
       "      <th>9</th>\n",
       "      <td>6631.150879</td>\n",
       "      <td>4290.0</td>\n",
       "    </tr>\n",
       "    <tr>\n",
       "      <th>10</th>\n",
       "      <td>6888.170898</td>\n",
       "      <td>4200.0</td>\n",
       "    </tr>\n",
       "    <tr>\n",
       "      <th>11</th>\n",
       "      <td>6954.964844</td>\n",
       "      <td>4200.0</td>\n",
       "    </tr>\n",
       "    <tr>\n",
       "      <th>12</th>\n",
       "      <td>6954.964844</td>\n",
       "      <td>4200.0</td>\n",
       "    </tr>\n",
       "  </tbody>\n",
       "</table>\n",
       "</div>"
      ],
      "text/plain": [
       "           jkse    BBRI\n",
       "0   5995.616211  4670.0\n",
       "1   5947.462891  4630.0\n",
       "2   5985.488770  4670.0\n",
       "3   6070.039063  4670.0\n",
       "4   6150.298828  4620.0\n",
       "5   6286.942871  4720.0\n",
       "6   6591.346191  4720.0\n",
       "7   6533.932129  4500.0\n",
       "8   6581.481934  4400.0\n",
       "9   6631.150879  4290.0\n",
       "10  6888.170898  4200.0\n",
       "11  6954.964844  4200.0\n",
       "12  6954.964844  4200.0"
      ]
     },
     "metadata": {},
     "output_type": "display_data"
    }
   ],
   "source": [
    "data = jkse.join(bbri)\n",
    "display(data)"
   ]
  },
  {
   "cell_type": "code",
   "execution_count": 11,
   "id": "ecbf1850",
   "metadata": {
    "execution": {
     "iopub.execute_input": "2022-04-14T18:49:02.750140Z",
     "iopub.status.busy": "2022-04-14T18:49:02.749843Z",
     "iopub.status.idle": "2022-04-14T18:49:02.754111Z",
     "shell.execute_reply": "2022-04-14T18:49:02.753488Z"
    },
    "papermill": {
     "duration": 0.032121,
     "end_time": "2022-04-14T18:49:02.755989",
     "exception": false,
     "start_time": "2022-04-14T18:49:02.723868",
     "status": "completed"
    },
    "tags": []
   },
   "outputs": [
    {
     "name": "stdout",
     "output_type": "stream",
     "text": [
      "(13, 2)\n"
     ]
    }
   ],
   "source": [
    "print(data.shape)"
   ]
  },
  {
   "cell_type": "code",
   "execution_count": 12,
   "id": "0a670b84",
   "metadata": {
    "execution": {
     "iopub.execute_input": "2022-04-14T18:49:02.806506Z",
     "iopub.status.busy": "2022-04-14T18:49:02.806185Z",
     "iopub.status.idle": "2022-04-14T18:49:02.824649Z",
     "shell.execute_reply": "2022-04-14T18:49:02.823830Z"
    },
    "papermill": {
     "duration": 0.046858,
     "end_time": "2022-04-14T18:49:02.826704",
     "exception": false,
     "start_time": "2022-04-14T18:49:02.779846",
     "status": "completed"
    },
    "tags": []
   },
   "outputs": [
    {
     "data": {
      "text/html": [
       "<div>\n",
       "<style scoped>\n",
       "    .dataframe tbody tr th:only-of-type {\n",
       "        vertical-align: middle;\n",
       "    }\n",
       "\n",
       "    .dataframe tbody tr th {\n",
       "        vertical-align: top;\n",
       "    }\n",
       "\n",
       "    .dataframe thead th {\n",
       "        text-align: right;\n",
       "    }\n",
       "</style>\n",
       "<table border=\"1\" class=\"dataframe\">\n",
       "  <thead>\n",
       "    <tr style=\"text-align: right;\">\n",
       "      <th></th>\n",
       "      <th>jkse</th>\n",
       "      <th>BBRI</th>\n",
       "    </tr>\n",
       "  </thead>\n",
       "  <tbody>\n",
       "    <tr>\n",
       "      <th>count</th>\n",
       "      <td>13.000000</td>\n",
       "      <td>13.000000</td>\n",
       "    </tr>\n",
       "    <tr>\n",
       "      <th>mean</th>\n",
       "      <td>6428.604643</td>\n",
       "      <td>4499.230769</td>\n",
       "    </tr>\n",
       "    <tr>\n",
       "      <th>std</th>\n",
       "      <td>377.348855</td>\n",
       "      <td>211.914351</td>\n",
       "    </tr>\n",
       "    <tr>\n",
       "      <th>min</th>\n",
       "      <td>5947.462891</td>\n",
       "      <td>4200.000000</td>\n",
       "    </tr>\n",
       "    <tr>\n",
       "      <th>25%</th>\n",
       "      <td>6070.039063</td>\n",
       "      <td>4290.000000</td>\n",
       "    </tr>\n",
       "    <tr>\n",
       "      <th>50%</th>\n",
       "      <td>6533.932129</td>\n",
       "      <td>4620.000000</td>\n",
       "    </tr>\n",
       "    <tr>\n",
       "      <th>75%</th>\n",
       "      <td>6631.150879</td>\n",
       "      <td>4670.000000</td>\n",
       "    </tr>\n",
       "    <tr>\n",
       "      <th>max</th>\n",
       "      <td>6954.964844</td>\n",
       "      <td>4720.000000</td>\n",
       "    </tr>\n",
       "  </tbody>\n",
       "</table>\n",
       "</div>"
      ],
      "text/plain": [
       "              jkse         BBRI\n",
       "count    13.000000    13.000000\n",
       "mean   6428.604643  4499.230769\n",
       "std     377.348855   211.914351\n",
       "min    5947.462891  4200.000000\n",
       "25%    6070.039063  4290.000000\n",
       "50%    6533.932129  4620.000000\n",
       "75%    6631.150879  4670.000000\n",
       "max    6954.964844  4720.000000"
      ]
     },
     "execution_count": 12,
     "metadata": {},
     "output_type": "execute_result"
    }
   ],
   "source": [
    "data.describe()"
   ]
  },
  {
   "cell_type": "code",
   "execution_count": 13,
   "id": "547929f8",
   "metadata": {
    "execution": {
     "iopub.execute_input": "2022-04-14T18:49:02.877857Z",
     "iopub.status.busy": "2022-04-14T18:49:02.877344Z",
     "iopub.status.idle": "2022-04-14T18:49:02.884324Z",
     "shell.execute_reply": "2022-04-14T18:49:02.883510Z"
    },
    "papermill": {
     "duration": 0.035219,
     "end_time": "2022-04-14T18:49:02.887123",
     "exception": false,
     "start_time": "2022-04-14T18:49:02.851904",
     "status": "completed"
    },
    "tags": []
   },
   "outputs": [
    {
     "name": "stdout",
     "output_type": "stream",
     "text": [
      "          jkse    BBRI\n",
      "0  5995.616211  4670.0\n",
      "1  5947.462891  4630.0\n",
      "2  5985.488770  4670.0\n",
      "3  6070.039063  4670.0\n",
      "4  6150.298828  4620.0\n"
     ]
    }
   ],
   "source": [
    "print (data.head())"
   ]
  },
  {
   "cell_type": "code",
   "execution_count": 14,
   "id": "1706e278",
   "metadata": {
    "execution": {
     "iopub.execute_input": "2022-04-14T18:49:02.939498Z",
     "iopub.status.busy": "2022-04-14T18:49:02.939234Z",
     "iopub.status.idle": "2022-04-14T18:49:02.943675Z",
     "shell.execute_reply": "2022-04-14T18:49:02.942801Z"
    },
    "papermill": {
     "duration": 0.032513,
     "end_time": "2022-04-14T18:49:02.945664",
     "exception": false,
     "start_time": "2022-04-14T18:49:02.913151",
     "status": "completed"
    },
    "tags": []
   },
   "outputs": [],
   "source": [
    "X = data ['jkse'].values\n",
    "Y = data ['BBRI'].values"
   ]
  },
  {
   "cell_type": "code",
   "execution_count": 15,
   "id": "47ab73ba",
   "metadata": {
    "execution": {
     "iopub.execute_input": "2022-04-14T18:49:02.996905Z",
     "iopub.status.busy": "2022-04-14T18:49:02.996602Z",
     "iopub.status.idle": "2022-04-14T18:49:03.005131Z",
     "shell.execute_reply": "2022-04-14T18:49:03.003837Z"
    },
    "papermill": {
     "duration": 0.037303,
     "end_time": "2022-04-14T18:49:03.007806",
     "exception": false,
     "start_time": "2022-04-14T18:49:02.970503",
     "status": "completed"
    },
    "tags": []
   },
   "outputs": [
    {
     "name": "stdout",
     "output_type": "stream",
     "text": [
      "-0.47562888922447966 7556.860854624671\n"
     ]
    }
   ],
   "source": [
    "mean_x = np.mean(X)\n",
    "mean_y = np.mean(Y)\n",
    "#Total number of values\n",
    "m = len(X)\n",
    "\n",
    "#using the formula to calculate b1 and b2\n",
    "numer = 0\n",
    "denom = 0\n",
    "for i in range(m):\n",
    "    numer += (X[i] - mean_x) * (Y[i]- mean_y)\n",
    "    denom += (X[i] - mean_x) ** 2\n",
    "b1 = numer/denom\n",
    "b0 = mean_y - (b1 * mean_x)\n",
    "\n",
    "#Print coefficients\n",
    "print(b1,b0)"
   ]
  },
  {
   "cell_type": "code",
   "execution_count": 16,
   "id": "37a753ff",
   "metadata": {
    "execution": {
     "iopub.execute_input": "2022-04-14T18:49:03.060463Z",
     "iopub.status.busy": "2022-04-14T18:49:03.059894Z",
     "iopub.status.idle": "2022-04-14T18:49:03.067301Z",
     "shell.execute_reply": "2022-04-14T18:49:03.066520Z"
    },
    "papermill": {
     "duration": 0.035924,
     "end_time": "2022-04-14T18:49:03.069393",
     "exception": false,
     "start_time": "2022-04-14T18:49:03.033469",
     "status": "completed"
    },
    "tags": []
   },
   "outputs": [],
   "source": [
    "%matplotlib inline\n",
    "import matplotlib.pyplot as plt\n",
    "plt.rcParams['figure.figsize'] = (20.0, 10.0)"
   ]
  },
  {
   "cell_type": "code",
   "execution_count": 17,
   "id": "b6622ded",
   "metadata": {
    "execution": {
     "iopub.execute_input": "2022-04-14T18:49:03.125139Z",
     "iopub.status.busy": "2022-04-14T18:49:03.124553Z",
     "iopub.status.idle": "2022-04-14T18:49:03.453207Z",
     "shell.execute_reply": "2022-04-14T18:49:03.452170Z"
    },
    "papermill": {
     "duration": 0.359127,
     "end_time": "2022-04-14T18:49:03.455254",
     "exception": false,
     "start_time": "2022-04-14T18:49:03.096127",
     "status": "completed"
    },
    "tags": []
   },
   "outputs": [
    {
     "data": {
      "image/png": "[encoded data removed]",
      "text/plain": [
       "<Figure size 1440x720 with 1 Axes>"
      ]
     },
     "metadata": {
      "needs_background": "light"
     },
     "output_type": "display_data"
    }
   ],
   "source": [
    "max_x = np.max(X) + 100\n",
    "min_x = np.min(X) - 100\n",
    "\n",
    "#Calculating line values x and y\n",
    "x = np.linspace(min_x, max_x, 1000)\n",
    "y = b0 + b1 * x\n",
    "\n",
    "#Ploting line\n",
    "plt.plot(x,y, color='#58b970', label = 'Regression Line')\n",
    "\n",
    "#PLoting Scatter Points\n",
    "plt.scatter(X,Y, c='#ef5423', label='Scatter PLot')\n",
    "\n",
    "plt.xlabel('jkse')\n",
    "plt.ylabel('BBRI')\n",
    "plt.legend()\n",
    "plt.show()"
   ]
  },
  {
   "cell_type": "code",
   "execution_count": 18,
   "id": "3d401ccf",
   "metadata": {
    "execution": {
     "iopub.execute_input": "2022-04-14T18:49:03.511744Z",
     "iopub.status.busy": "2022-04-14T18:49:03.511460Z",
     "iopub.status.idle": "2022-04-14T18:49:03.517645Z",
     "shell.execute_reply": "2022-04-14T18:49:03.516811Z"
    },
    "papermill": {
     "duration": 0.03723,
     "end_time": "2022-04-14T18:49:03.520471",
     "exception": false,
     "start_time": "2022-04-14T18:49:03.483241",
     "status": "completed"
    },
    "tags": []
   },
   "outputs": [
    {
     "name": "stdout",
     "output_type": "stream",
     "text": [
      "0.7173015781193197\n"
     ]
    }
   ],
   "source": [
    "ss_t = 0\n",
    "ss_r = 0\n",
    "for i in range(m):\n",
    "    y_pred = b0 + b1 * X[i]\n",
    "    ss_t += (Y[i] - mean_y) ** 2\n",
    "    ss_r += (Y[i] - y_pred) ** 2\n",
    "r2 = 1 - (ss_r/ss_t)\n",
    "print(r2)"
   ]
  }
 ],
 "metadata": {
  "kernelspec": {
   "display_name": "Python 3",
   "language": "python",
   "name": "python3"
  },
  "language_info": {
   "codemirror_mode": {
    "name": "ipython",
    "version": 3
   },
   "file_extension": ".py",
   "mimetype": "text/x-python",
   "name": "python",
   "nbconvert_exporter": "python",
   "pygments_lexer": "ipython3",
   "version": "3.7.12"
  },
  "papermill": {
   "default_parameters": {},
   "duration": 13.53935,
   "end_time": "2022-04-14T18:49:04.270030",
   "environment_variables": {},
   "exception": null,
   "input_path": "__notebook__.ipynb",
   "output_path": "__notebook__.ipynb",
   "parameters": {},
   "start_time": "2022-04-14T18:48:50.730680",
   "version": "2.3.4"
  }
 },
 "nbformat": 4,
 "nbformat_minor": 5
}
